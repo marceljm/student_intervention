{
 "cells": [
  {
   "cell_type": "markdown",
   "metadata": {},
   "source": [
    "# Machine Learning Engineer Nanodegree\n",
    "## Supervised Learning\n",
    "## Project: Building a Student Intervention System"
   ]
  },
  {
   "cell_type": "markdown",
   "metadata": {},
   "source": [
    "Welcome to the second project of the Machine Learning Engineer Nanodegree! In this notebook, some template code has already been provided for you, and it will be your job to implement the additional functionality necessary to successfully complete this project. Sections that begin with **'Implementation'** in the header indicate that the following block of code will require additional functionality which you must provide. Instructions will be provided for each section and the specifics of the implementation are marked in the code block with a `'TODO'` statement. Please be sure to read the instructions carefully!\n",
    "\n",
    "In addition to implementing code, there will be questions that you must answer which relate to the project and your implementation. Each section where you will answer a question is preceded by a **'Question X'** header. Carefully read each question and provide thorough answers in the following text boxes that begin with **'Answer:'**. Your project submission will be evaluated based on your answers to each of the questions and the implementation you provide.  \n",
    "\n",
    ">**Note:** Code and Markdown cells can be executed using the **Shift + Enter** keyboard shortcut. In addition, Markdown cells can be edited by typically double-clicking the cell to enter edit mode."
   ]
  },
  {
   "cell_type": "markdown",
   "metadata": {},
   "source": [
    "### Question 1 - Classification vs. Regression\n",
    "*Your goal for this project is to identify students who might need early intervention before they fail to graduate. Which type of supervised learning problem is this, classification or regression? Why?*"
   ]
  },
  {
   "cell_type": "markdown",
   "metadata": {},
   "source": [
    "**Answer: ** Once the expected output for this supervised learning project is a class label (yes/no) that indicates if the student will pass or not, it's a classification problem. To be a regression problem, the expected output should be a continuous value."
   ]
  },
  {
   "cell_type": "markdown",
   "metadata": {},
   "source": [
    "## Exploring the Data\n",
    "Run the code cell below to load necessary Python libraries and load the student data. Note that the last column from this dataset, `'passed'`, will be our target label (whether the student graduated or didn't graduate). All other columns are features about each student."
   ]
  },
  {
   "cell_type": "code",
   "execution_count": 1,
   "metadata": {},
   "outputs": [
    {
     "name": "stdout",
     "output_type": "stream",
     "text": [
      "Student data read successfully!\n"
     ]
    }
   ],
   "source": [
    "# Import libraries\n",
    "import numpy as np\n",
    "import pandas as pd\n",
    "from time import time\n",
    "from sklearn.metrics import f1_score\n",
    "\n",
    "# Read student data\n",
    "student_data = pd.read_csv(\"student-data.csv\")\n",
    "print (\"Student data read successfully!\")"
   ]
  },
  {
   "cell_type": "markdown",
   "metadata": {},
   "source": [
    "### Implementation: Data Exploration\n",
    "Let's begin by investigating the dataset to determine how many students we have information on, and learn about the graduation rate among these students. In the code cell below, you will need to compute the following:\n",
    "- The total number of students, `n_students`.\n",
    "- The total number of features for each student, `n_features`.\n",
    "- The number of those students who passed, `n_passed`.\n",
    "- The number of those students who failed, `n_failed`.\n",
    "- The graduation rate of the class, `grad_rate`, in percent (%).\n"
   ]
  },
  {
   "cell_type": "code",
   "execution_count": 2,
   "metadata": {},
   "outputs": [
    {
     "name": "stdout",
     "output_type": "stream",
     "text": [
      "Total number of students: 395\n",
      "Number of features: 30\n",
      "Number of students who passed: 265\n",
      "Number of students who failed: 130\n",
      "Graduation rate of the class: 67.09%\n"
     ]
    }
   ],
   "source": [
    "# TODO: Calculate number of students\n",
    "n_students = student_data.shape[0]\n",
    "\n",
    "# TODO: Calculate number of features\n",
    "n_features = student_data.shape[1] - 1\n",
    "\n",
    "# TODO: Calculate passing students\n",
    "n_passed = student_data[student_data['passed'] == 'yes']['passed'].count()\n",
    "\n",
    "# TODO: Calculate failing students\n",
    "n_failed = student_data[student_data['passed'] == 'no']['passed'].count()\n",
    "\n",
    "# TODO: Calculate graduation rate\n",
    "grad_rate = 100 * n_passed / n_students\n",
    "\n",
    "# Print the results\n",
    "print (\"Total number of students: {}\".format(n_students))\n",
    "print (\"Number of features: {}\".format(n_features))\n",
    "print (\"Number of students who passed: {}\".format(n_passed))\n",
    "print (\"Number of students who failed: {}\".format(n_failed))\n",
    "print (\"Graduation rate of the class: {:.2f}%\".format(grad_rate))"
   ]
  },
  {
   "cell_type": "markdown",
   "metadata": {},
   "source": [
    "## Preparing the Data\n",
    "In this section, we will prepare the data for modeling, training and testing.\n",
    "\n",
    "### Identify feature and target columns\n",
    "It is often the case that the data you obtain contains non-numeric features. This can be a problem, as most machine learning algorithms expect numeric data to perform computations with.\n",
    "\n",
    "Run the code cell below to separate the student data into feature and target columns to see if any features are non-numeric."
   ]
  },
  {
   "cell_type": "code",
   "execution_count": 3,
   "metadata": {},
   "outputs": [
    {
     "name": "stdout",
     "output_type": "stream",
     "text": [
      "Feature columns:\n",
      "['school', 'sex', 'age', 'address', 'famsize', 'Pstatus', 'Medu', 'Fedu', 'Mjob', 'Fjob', 'reason', 'guardian', 'traveltime', 'studytime', 'failures', 'schoolsup', 'famsup', 'paid', 'activities', 'nursery', 'higher', 'internet', 'romantic', 'famrel', 'freetime', 'goout', 'Dalc', 'Walc', 'health', 'absences']\n",
      "\n",
      "Target column: passed\n",
      "\n",
      "Feature values:\n",
      "  school sex  age address famsize Pstatus  Medu  Fedu     Mjob      Fjob  \\\n",
      "0     GP   F   18       U     GT3       A     4     4  at_home   teacher   \n",
      "1     GP   F   17       U     GT3       T     1     1  at_home     other   \n",
      "2     GP   F   15       U     LE3       T     1     1  at_home     other   \n",
      "3     GP   F   15       U     GT3       T     4     2   health  services   \n",
      "4     GP   F   16       U     GT3       T     3     3    other     other   \n",
      "\n",
      "    ...    higher internet  romantic  famrel  freetime goout Dalc Walc health  \\\n",
      "0   ...       yes       no        no       4         3     4    1    1      3   \n",
      "1   ...       yes      yes        no       5         3     3    1    1      3   \n",
      "2   ...       yes      yes        no       4         3     2    2    3      3   \n",
      "3   ...       yes      yes       yes       3         2     2    1    1      5   \n",
      "4   ...       yes       no        no       4         3     2    1    2      5   \n",
      "\n",
      "  absences  \n",
      "0        6  \n",
      "1        4  \n",
      "2       10  \n",
      "3        2  \n",
      "4        4  \n",
      "\n",
      "[5 rows x 30 columns]\n"
     ]
    }
   ],
   "source": [
    "# Extract feature columns\n",
    "feature_cols = list(student_data.columns[:-1])\n",
    "\n",
    "# Extract target column 'passed'\n",
    "target_col = student_data.columns[-1] \n",
    "\n",
    "# Show the list of columns\n",
    "print (\"Feature columns:\\n{}\".format(feature_cols))\n",
    "print (\"\\nTarget column: {}\".format(target_col))\n",
    "\n",
    "# Separate the data into feature data and target data (X_all and y_all, respectively)\n",
    "X_all = student_data[feature_cols]\n",
    "y_all = student_data[target_col]\n",
    "\n",
    "# Show the feature information by printing the first five rows\n",
    "print (\"\\nFeature values:\")\n",
    "print (X_all.head())"
   ]
  },
  {
   "cell_type": "markdown",
   "metadata": {},
   "source": [
    "### Preprocess Feature Columns\n",
    "\n",
    "As you can see, there are several non-numeric columns that need to be converted! Many of them are simply `yes`/`no`, e.g. `internet`. These can be reasonably converted into `1`/`0` (binary) values.\n",
    "\n",
    "Other columns, like `Mjob` and `Fjob`, have more than two values, and are known as _categorical variables_. The recommended way to handle such a column is to create as many columns as possible values (e.g. `Fjob_teacher`, `Fjob_other`, `Fjob_services`, etc.), and assign a `1` to one of them and `0` to all others.\n",
    "\n",
    "These generated columns are sometimes called _dummy variables_, and we will use the [`pandas.get_dummies()`](http://pandas.pydata.org/pandas-docs/stable/generated/pandas.get_dummies.html?highlight=get_dummies#pandas.get_dummies) function to perform this transformation. Run the code cell below to perform the preprocessing routine discussed in this section."
   ]
  },
  {
   "cell_type": "code",
   "execution_count": 4,
   "metadata": {},
   "outputs": [
    {
     "name": "stdout",
     "output_type": "stream",
     "text": [
      "Processed feature columns (48 total features):\n",
      "['school_GP', 'school_MS', 'sex_F', 'sex_M', 'age', 'address_R', 'address_U', 'famsize_GT3', 'famsize_LE3', 'Pstatus_A', 'Pstatus_T', 'Medu', 'Fedu', 'Mjob_at_home', 'Mjob_health', 'Mjob_other', 'Mjob_services', 'Mjob_teacher', 'Fjob_at_home', 'Fjob_health', 'Fjob_other', 'Fjob_services', 'Fjob_teacher', 'reason_course', 'reason_home', 'reason_other', 'reason_reputation', 'guardian_father', 'guardian_mother', 'guardian_other', 'traveltime', 'studytime', 'failures', 'schoolsup', 'famsup', 'paid', 'activities', 'nursery', 'higher', 'internet', 'romantic', 'famrel', 'freetime', 'goout', 'Dalc', 'Walc', 'health', 'absences']\n"
     ]
    }
   ],
   "source": [
    "def preprocess_features(X):\n",
    "    ''' Preprocesses the student data and converts non-numeric binary variables into\n",
    "        binary (0/1) variables. Converts categorical variables into dummy variables. '''\n",
    "    \n",
    "    # Initialize new output DataFrame\n",
    "    output = pd.DataFrame(index = X.index)\n",
    "\n",
    "    # Investigate each feature column for the data\n",
    "    for col, col_data in X.iteritems():\n",
    "        \n",
    "        # If data type is non-numeric, replace all yes/no values with 1/0\n",
    "        if col_data.dtype == object:\n",
    "            col_data = col_data.replace(['yes', 'no'], [1, 0])\n",
    "\n",
    "        # If data type is categorical, convert to dummy variables\n",
    "        if col_data.dtype == object:\n",
    "            # Example: 'school' => 'school_GP' and 'school_MS'\n",
    "            col_data = pd.get_dummies(col_data, prefix = col)  \n",
    "        \n",
    "        # Collect the revised columns\n",
    "        output = output.join(col_data)\n",
    "    \n",
    "    return output\n",
    "\n",
    "X_all = preprocess_features(X_all)\n",
    "print (\"Processed feature columns ({} total features):\\n{}\".format(len(X_all.columns), list(X_all.columns)))"
   ]
  },
  {
   "cell_type": "markdown",
   "metadata": {},
   "source": [
    "### Implementation: Training and Testing Data Split\n",
    "So far, we have converted all _categorical_ features into numeric values. For the next step, we split the data (both features and corresponding labels) into training and test sets. In the following code cell below, you will need to implement the following:\n",
    "- Randomly shuffle and split the data (`X_all`, `y_all`) into training and testing subsets.\n",
    "  - Use 300 training points (approximately 75%) and 95 testing points (approximately 25%).\n",
    "  - Set a `random_state` for the function(s) you use, if provided.\n",
    "  - Store the results in `X_train`, `X_test`, `y_train`, and `y_test`."
   ]
  },
  {
   "cell_type": "code",
   "execution_count": 5,
   "metadata": {},
   "outputs": [
    {
     "name": "stdout",
     "output_type": "stream",
     "text": [
      "Training set has 300 samples.\n",
      "Testing set has 95 samples.\n"
     ]
    }
   ],
   "source": [
    "# TODO: Import any additional functionality you may need here\n",
    "from sklearn.model_selection import train_test_split\n",
    "\n",
    "# TODO: Set the number of training points\n",
    "num_train = 300\n",
    "\n",
    "# Set the number of testing points\n",
    "num_test = X_all.shape[0] - num_train\n",
    "\n",
    "# TODO: Shuffle and split the dataset into the number of training and testing points above\n",
    "X_train, X_test, y_train, y_test = train_test_split(X_all, y_all, test_size = num_test, random_state=55, stratify=y_all)\n",
    "\n",
    "# Show the results of the split\n",
    "print (\"Training set has {} samples.\".format(X_train.shape[0]))\n",
    "print (\"Testing set has {} samples.\".format(X_test.shape[0]))"
   ]
  },
  {
   "cell_type": "markdown",
   "metadata": {},
   "source": [
    "## Training and Evaluating Models\n",
    "In this section, you will choose 3 supervised learning models that are appropriate for this problem and available in `scikit-learn`. You will first discuss the reasoning behind choosing these three models by considering what you know about the data and each model's strengths and weaknesses. You will then fit the model to varying sizes of training data (100 data points, 200 data points, and 300 data points) and measure the F<sub>1</sub> score. You will need to produce three tables (one for each model) that shows the training set size, training time, prediction time, F<sub>1</sub> score on the training set, and F<sub>1</sub> score on the testing set.\n",
    "\n",
    "**The following supervised learning models are currently available in** [`scikit-learn`](http://scikit-learn.org/stable/supervised_learning.html) **that you may choose from:**\n",
    "- Gaussian Naive Bayes (GaussianNB)\n",
    "- Decision Trees\n",
    "- Ensemble Methods (Bagging, AdaBoost, Random Forest, Gradient Boosting)\n",
    "- K-Nearest Neighbors (KNeighbors)\n",
    "- Stochastic Gradient Descent (SGDC)\n",
    "- Support Vector Machines (SVM)\n",
    "- Logistic Regression"
   ]
  },
  {
   "cell_type": "markdown",
   "metadata": {},
   "source": [
    "### Question 2 - Model Application\n",
    "*List three supervised learning models that are appropriate for this problem. For each model chosen*\n",
    "- Describe one real-world application in industry where the model can be applied. *(You may need to do a small bit of research for this — give references!)* \n",
    "- What are the strengths of the model; when does it perform well? \n",
    "- What are the weaknesses of the model; when does it perform poorly?\n",
    "- What makes this model a good candidate for the problem, given what you know about the data?"
   ]
  },
  {
   "cell_type": "markdown",
   "metadata": {},
   "source": [
    "**Answer: **\n",
    "\n",
    "1) Gaussian Naive Bayes:\n",
    "- Usage example: spam filter;\n",
    "- Strengths: easy to understand, implement and update; small memory footprint; fast; only requires a small number of training data to estimate the parameters necessary for classification;\n",
    "- Weaknesses: can't learn interaction between features;\n",
    "- Performs well: when the features are independent;\n",
    "- Performs poorly: when the features are dependent;\n",
    "- characteristics that make the model a good candidate for the problem, based on the given data: more than 50 samples; category prediction; labeled data; less than 100K samples; text data.\n",
    "\n",
    "    References:\n",
    "- https://en.wikipedia.org/wiki/Naive_Bayes_classifier\n",
    "- https://stats.stackexchange.com/questions/23490/why-do-naive-bayesian-classifiers-perform-so-well\n",
    "- https://www.quora.com/What-are-the-advantages-of-using-a-naive-Bayes-for-classification\n",
    "- http://scikit-learn.org/stable/tutorial/machine_learning_map/\n",
    "\n",
    "2) Decision Tree:\n",
    "- Usage example: disease diagnostic;\n",
    "- Strengths: simple to understand and interpret; helps determine worst, best and expected values for different scenarios; allows the addition of new possible scenarios; nonlinear relationships between features do not affect tree performance; requires relatively little effort from users for data preparation;\n",
    "- Weaknesses: a slight change can result in a drastically different tree; without proper pruning or limiting tree growth, they tend to overfit the training data (high accurate output on training data, but low accurate output on test data);\n",
    "- Performs well: when some measuares are taken to avoid overfit;\n",
    "- Performs poorly: when it has a lot of uncorrelated features (because it works by finding the interactions between them);\n",
    "- characteristics that make the model a good candidate for the problem, based on the given data: more than 50 samples; category prediction; labeled data; less than 100K samples; text data.\n",
    "\n",
    "    References:\n",
    "- https://en.wikipedia.org/wiki/Decision_tree\n",
    "- http://www.cbcb.umd.edu/~salzberg/docs/murthy_thesis/survey/node32.html\n",
    "- http://www.simafore.com/blog/bid/62333/4-key-advantages-of-using-decision-trees-for-predictive-analytics\n",
    "- https://stats.stackexchange.com/questions/1292/what-is-the-weak-side-of-decision-trees\n",
    "- https://www.researchgate.net/post/What_is_over_fitting_in_decision_tree\n",
    "- https://www.quora.com/What-are-the-disadvantages-of-a-decision-tree\n",
    "\n",
    "3) Support Vector Machines:\n",
    "- Usage example: face detection;\n",
    "- Strengths: robust against overfitting; flexibility (many kernels to choose);\n",
    "- Weaknesses: memory intensive; slow for large data sets; several key parameters that need to be set correctly to achieve the best classification;\n",
    "- Performs well: on a wide range of classification problems, even problems in high dimensions and that are not linearly separable;\n",
    "- Performs poorly: when the data sets are very large; there is a lot of noise (can cause some overfitting);\n",
    "- characteristics that make the model a good candidate for the problem, based on the given data: more than 50 samples; category prediction; labeled data; less than 100K samples; text data.\n",
    "\n",
    "    References:\n",
    "- http://www.datasciencecentral.com/profiles/blogs/real-life-applications-of-support-vector-machines\n",
    "- https://elitedatascience.com/machine-learning-algorithms\n",
    "- https://br.udacity.com/course/intro-to-machine-learning--ud120\n",
    "- http://www.nickgillian.com/wiki/pmwiki.php/GRT/SVM\n"
   ]
  },
  {
   "cell_type": "markdown",
   "metadata": {},
   "source": [
    "### Setup\n",
    "Run the code cell below to initialize three helper functions which you can use for training and testing the three supervised learning models you've chosen above. The functions are as follows:\n",
    "- `train_classifier` - takes as input a classifier and training data and fits the classifier to the data.\n",
    "- `predict_labels` - takes as input a fit classifier, features, and a target labeling and makes predictions using the F<sub>1</sub> score.\n",
    "- `train_predict` - takes as input a classifier, and the training and testing data, and performs `train_clasifier` and `predict_labels`.\n",
    " - This function will report the F<sub>1</sub> score for both the training and testing data separately."
   ]
  },
  {
   "cell_type": "code",
   "execution_count": 6,
   "metadata": {},
   "outputs": [],
   "source": [
    "def train_classifier(clf, X_train, y_train):\n",
    "    ''' Fits a classifier to the training data. '''\n",
    "    \n",
    "    # Start the clock, train the classifier, then stop the clock\n",
    "    start = time()\n",
    "    clf.fit(X_train, y_train)\n",
    "    end = time()\n",
    "    \n",
    "    # Print the results\n",
    "    print (\"Trained model in {:.4f} seconds\".format(end - start))\n",
    "\n",
    "    \n",
    "def predict_labels(clf, features, target):\n",
    "    ''' Makes predictions using a fit classifier based on F1 score. '''\n",
    "    \n",
    "    # Start the clock, make predictions, then stop the clock\n",
    "    start = time()\n",
    "    y_pred = clf.predict(features)\n",
    "    end = time()\n",
    "    \n",
    "    # Print and return results\n",
    "    print (\"Made predictions in {:.4f} seconds.\".format(end - start))\n",
    "    return f1_score(target.values, y_pred, pos_label='yes')\n",
    "\n",
    "\n",
    "def train_predict(clf, X_train, y_train, X_test, y_test):\n",
    "    ''' Train and predict using a classifer based on F1 score. '''\n",
    "    \n",
    "    # Indicate the classifier and the training set size\n",
    "    print (\"Training a {} using a training set size of {}. . .\".format(clf.__class__.__name__, len(X_train)))\n",
    "    \n",
    "    # Train the classifier\n",
    "    train_classifier(clf, X_train, y_train)\n",
    "    \n",
    "    # Print the results of prediction for both training and testing\n",
    "    print (\"F1 score for training set: {:.4f}.\".format(predict_labels(clf, X_train, y_train)))\n",
    "    print (\"F1 score for test set: {:.4f}.\".format(predict_labels(clf, X_test, y_test)))"
   ]
  },
  {
   "cell_type": "markdown",
   "metadata": {},
   "source": [
    "### Implementation: Model Performance Metrics\n",
    "With the predefined functions above, you will now import the three supervised learning models of your choice and run the `train_predict` function for each one. Remember that you will need to train and predict on each classifier for three different training set sizes: 100, 200, and 300. Hence, you should expect to have 9 different outputs below — 3 for each model using the varying training set sizes. In the following code cell, you will need to implement the following:\n",
    "- Import the three supervised learning models you've discussed in the previous section.\n",
    "- Initialize the three models and store them in `clf_A`, `clf_B`, and `clf_C`.\n",
    " - Use a `random_state` for each model you use, if provided.\n",
    " - **Note:** Use the default settings for each model — you will tune one specific model in a later section.\n",
    "- Create the different training set sizes to be used to train each model.\n",
    " - *Do not reshuffle and resplit the data! The new training points should be drawn from `X_train` and `y_train`.*\n",
    "- Fit each model with each training set size and make predictions on the test set (9 in total).  \n",
    "**Note:** Three tables are provided after the following code cell which can be used to store your results."
   ]
  },
  {
   "cell_type": "code",
   "execution_count": 7,
   "metadata": {},
   "outputs": [
    {
     "name": "stderr",
     "output_type": "stream",
     "text": [
      "/usr/local/lib/python3.5/dist-packages/sklearn/linear_model/stochastic_gradient.py:84: FutureWarning: max_iter and tol parameters have been added in <class 'sklearn.linear_model.stochastic_gradient.SGDClassifier'> in 0.19. If both are left unset, they default to max_iter=5 and tol=None. If tol is not None, max_iter defaults to max_iter=1000. From 0.21, default max_iter will be 1000, and default tol will be 1e-3.\n",
      "  \"and default tol will be 1e-3.\" % type(self), FutureWarning)\n"
     ]
    },
    {
     "name": "stdout",
     "output_type": "stream",
     "text": [
      "Training a GaussianNB using a training set size of 100. . .\n",
      "Trained model in 0.0036 seconds\n",
      "Made predictions in 0.0011 seconds.\n",
      "F1 score for training set: 0.8358.\n",
      "Made predictions in 0.0009 seconds.\n",
      "F1 score for test set: 0.7556.\n",
      "Training a GaussianNB using a training set size of 200. . .\n",
      "Trained model in 0.0029 seconds\n",
      "Made predictions in 0.0013 seconds.\n",
      "F1 score for training set: 0.8000.\n",
      "Made predictions in 0.0011 seconds.\n",
      "F1 score for test set: 0.7556.\n",
      "Training a GaussianNB using a training set size of 300. . .\n",
      "Trained model in 0.0015 seconds\n",
      "Made predictions in 0.0006 seconds.\n",
      "F1 score for training set: 0.7990.\n",
      "Made predictions in 0.0004 seconds.\n",
      "F1 score for test set: 0.7164.\n",
      "================================================================================\n",
      "Training a DecisionTreeClassifier using a training set size of 100. . .\n",
      "Trained model in 0.0011 seconds\n",
      "Made predictions in 0.0003 seconds.\n",
      "F1 score for training set: 1.0000.\n",
      "Made predictions in 0.0006 seconds.\n",
      "F1 score for test set: 0.7576.\n",
      "Training a DecisionTreeClassifier using a training set size of 200. . .\n",
      "Trained model in 0.0024 seconds\n",
      "Made predictions in 0.0005 seconds.\n",
      "F1 score for training set: 1.0000.\n",
      "Made predictions in 0.0003 seconds.\n",
      "F1 score for test set: 0.6333.\n",
      "Training a DecisionTreeClassifier using a training set size of 300. . .\n",
      "Trained model in 0.0029 seconds\n",
      "Made predictions in 0.0004 seconds.\n",
      "F1 score for training set: 1.0000.\n",
      "Made predictions in 0.0003 seconds.\n",
      "F1 score for test set: 0.6500.\n",
      "================================================================================\n",
      "Training a SVC using a training set size of 100. . .\n",
      "Trained model in 0.0018 seconds\n",
      "Made predictions in 0.0012 seconds.\n",
      "F1 score for training set: 0.8936.\n",
      "Made predictions in 0.0011 seconds.\n",
      "F1 score for test set: 0.7746.\n",
      "Training a SVC using a training set size of 200. . .\n",
      "Trained model in 0.0062 seconds\n",
      "Made predictions in 0.0046 seconds.\n",
      "F1 score for training set: 0.8707.\n",
      "Made predictions in 0.0017 seconds.\n",
      "F1 score for test set: 0.7808.\n",
      "Training a SVC using a training set size of 300. . .\n",
      "Trained model in 0.0094 seconds\n",
      "Made predictions in 0.0071 seconds.\n",
      "F1 score for training set: 0.8640.\n",
      "Made predictions in 0.0024 seconds.\n",
      "F1 score for test set: 0.7947.\n",
      "================================================================================\n",
      "Training a KNeighborsClassifier using a training set size of 100. . .\n",
      "Trained model in 0.0008 seconds\n",
      "Made predictions in 0.0017 seconds.\n",
      "F1 score for training set: 0.8392.\n",
      "Made predictions in 0.0015 seconds.\n",
      "F1 score for test set: 0.7231.\n",
      "Training a KNeighborsClassifier using a training set size of 200. . .\n",
      "Trained model in 0.0009 seconds\n",
      "Made predictions in 0.0043 seconds.\n",
      "F1 score for training set: 0.8269.\n",
      "Made predictions in 0.0023 seconds.\n",
      "F1 score for test set: 0.7313.\n",
      "Training a KNeighborsClassifier using a training set size of 300. . .\n",
      "Trained model in 0.0011 seconds\n",
      "Made predictions in 0.0085 seconds.\n",
      "F1 score for training set: 0.8519.\n",
      "Made predictions in 0.0030 seconds.\n",
      "F1 score for test set: 0.7559.\n",
      "================================================================================\n",
      "Training a SGDClassifier using a training set size of 100. . .\n",
      "Trained model in 0.0008 seconds\n",
      "Made predictions in 0.0003 seconds.\n",
      "F1 score for training set: 0.6139.\n",
      "Made predictions in 0.0002 seconds.\n",
      "F1 score for test set: 0.4571.\n",
      "Training a SGDClassifier using a training set size of 200. . .\n",
      "Trained model in 0.0010 seconds\n",
      "Made predictions in 0.0018 seconds.\n",
      "F1 score for training set: 0.8081.\n",
      "Made predictions in 0.0004 seconds.\n",
      "F1 score for test set: 0.7724.\n",
      "Training a SGDClassifier using a training set size of 300. . .\n",
      "Trained model in 0.0022 seconds\n",
      "Made predictions in 0.0006 seconds.\n",
      "F1 score for training set: 0.1913.\n",
      "Made predictions in 0.0002 seconds.\n",
      "F1 score for test set: 0.0870.\n",
      "================================================================================\n",
      "Training a GradientBoostingClassifier using a training set size of 100. . .\n",
      "Trained model in 0.0822 seconds\n",
      "Made predictions in 0.0009 seconds.\n",
      "F1 score for training set: 1.0000.\n",
      "Made predictions in 0.0006 seconds.\n",
      "F1 score for test set: 0.7519.\n",
      "Training a GradientBoostingClassifier using a training set size of 200. . .\n",
      "Trained model in 0.0796 seconds\n",
      "Made predictions in 0.0011 seconds.\n",
      "F1 score for training set: 0.9886.\n",
      "Made predictions in 0.0006 seconds.\n",
      "F1 score for test set: 0.7132.\n",
      "Training a GradientBoostingClassifier using a training set size of 300. . .\n",
      "Trained model in 0.0927 seconds\n",
      "Made predictions in 0.0012 seconds.\n",
      "F1 score for training set: 0.9710.\n",
      "Made predictions in 0.0006 seconds.\n",
      "F1 score for test set: 0.7714.\n",
      "================================================================================\n",
      "Training a LogisticRegression using a training set size of 100. . .\n",
      "Trained model in 0.0014 seconds\n",
      "Made predictions in 0.0003 seconds.\n",
      "F1 score for training set: 0.9023.\n",
      "Made predictions in 0.0003 seconds.\n",
      "F1 score for test set: 0.6504.\n",
      "Training a LogisticRegression using a training set size of 200. . .\n",
      "Trained model in 0.0022 seconds\n",
      "Made predictions in 0.0004 seconds.\n",
      "F1 score for training set: 0.8406.\n",
      "Made predictions in 0.0002 seconds.\n",
      "F1 score for test set: 0.7704.\n",
      "Training a LogisticRegression using a training set size of 300. . .\n",
      "Trained model in 0.0038 seconds\n",
      "Made predictions in 0.0007 seconds.\n",
      "F1 score for training set: 0.8257.\n",
      "Made predictions in 0.0002 seconds.\n",
      "F1 score for test set: 0.7626.\n",
      "================================================================================\n",
      "Training a MLPClassifier using a training set size of 100. . .\n",
      "Trained model in 0.0270 seconds\n",
      "Made predictions in 0.0016 seconds.\n",
      "F1 score for training set: 0.7805.\n",
      "Made predictions in 0.0007 seconds.\n",
      "F1 score for test set: 0.8050.\n",
      "Training a MLPClassifier using a training set size of 200. . .\n",
      "Trained model in 0.0292 seconds\n",
      "Made predictions in 0.0007 seconds.\n",
      "F1 score for training set: 0.7879.\n",
      "Made predictions in 0.0004 seconds.\n",
      "F1 score for test set: 0.8050.\n",
      "Training a MLPClassifier using a training set size of 300. . .\n",
      "Trained model in 0.0174 seconds\n",
      "Made predictions in 0.0006 seconds.\n",
      "F1 score for training set: 0.8024.\n",
      "Made predictions in 0.0004 seconds.\n",
      "F1 score for test set: 0.8050.\n",
      "================================================================================\n"
     ]
    }
   ],
   "source": [
    "# TODO: Import the three supervised learning models from sklearn\n",
    "# from sklearn import model_A\n",
    "from sklearn.naive_bayes import GaussianNB\n",
    "# from sklearn import model_B\n",
    "from sklearn.tree import DecisionTreeClassifier\n",
    "# from sklearn import model_C\n",
    "from sklearn.svm import SVC\n",
    "# from sklearn import model_D\n",
    "from sklearn.neighbors import KNeighborsClassifier\n",
    "# from sklearn import model_E\n",
    "from sklearn.linear_model import SGDClassifier\n",
    "# from sklearn import model_F\n",
    "from sklearn.ensemble import GradientBoostingClassifier\n",
    "# from sklearn import model_G\n",
    "from sklearn.linear_model import LogisticRegression\n",
    "# from sklearn import model_H\n",
    "from sklearn.neural_network import MLPClassifier\n",
    "\n",
    "# TODO: Initialize the three models\n",
    "clf_A = GaussianNB()\n",
    "clf_B = DecisionTreeClassifier(random_state=86)\n",
    "clf_C = SVC(random_state=86)\n",
    "clf_D = KNeighborsClassifier()\n",
    "clf_E = SGDClassifier(random_state=86)\n",
    "clf_F = GradientBoostingClassifier(random_state=86)\n",
    "clf_G = LogisticRegression(random_state=86)\n",
    "clf_H = MLPClassifier(random_state=86)\n",
    "\n",
    "# TODO: Set up the training set sizes\n",
    "# TODO: Execute the 'train_predict' function for each classifier and each training set size\n",
    "for clf in [clf_A, clf_B, clf_C, clf_D, clf_E, clf_F, clf_G, clf_H]:\n",
    "    for size in [100, 200, 300]:\n",
    "        train_predict(clf, X_train[:size], y_train[:size], X_test, y_test)\n",
    "    print ('='*80)"
   ]
  },
  {
   "cell_type": "markdown",
   "metadata": {},
   "source": [
    "### Tabular Results\n",
    "Edit the cell below to see how a table can be designed in [Markdown](https://github.com/adam-p/markdown-here/wiki/Markdown-Cheatsheet#tables). You can record your results from above in the tables provided."
   ]
  },
  {
   "cell_type": "markdown",
   "metadata": {},
   "source": [
    "** Classifer 1 - Gaussian Naive Bayes **  \n",
    "\n",
    "| Training Set Size | Training Time | Prediction Time (test) | F1 Score (train) | F1 Score (test) |\n",
    "| :---------------: | :---------------------: | :--------------------: | :--------------: | :-------------: |\n",
    "| 100               | 0.0017                  |  0.0005                | 0.8358           | 0.7556          |\n",
    "| 200               | 0.0012                  |  0.0004                | 0.8000           | 0.7556          |\n",
    "| 300               | 0.0015                  |  0.0006                | 0.7990           | 0.7164          |\n",
    "\n",
    "** Classifer 2 - Decision Tree **  \n",
    "\n",
    "| Training Set Size | Training Time | Prediction Time (test) | F1 Score (train) | F1 Score (test) |\n",
    "| :---------------: | :---------------------: | :--------------------: | :--------------: | :-------------: |\n",
    "| 100               | 0.0012                  |  0.0003                | 1.0000           | 0.7576          |\n",
    "| 200               | 0.0019                  |  0.0004                | 1.0000           | 0.6333          |\n",
    "| 300               | 0.0026                  |  0.0004                | 1.0000           | 0.6500          |\n",
    "\n",
    "** Classifer 3 - Support Vector Machine **  \n",
    "\n",
    "| Training Set Size | Training Time | Prediction Time (test) | F1 Score (train) | F1 Score (test) |\n",
    "| :---------------: | :---------------------: | :--------------------: | :--------------: | :-------------: |\n",
    "| 100               | 0.0020                  | 0.0011                 | 0.8936           | 0.7746          |\n",
    "| 200               | 0.0048                  | 0.0018                 | 0.8707           | 0.7808          |\n",
    "| 300               | 0.0095                  | 0.0024                 | 0.8640           | 0.7947          |"
   ]
  },
  {
   "cell_type": "markdown",
   "metadata": {},
   "source": [
    "## Choosing the Best Model\n",
    "In this final section, you will choose from the three supervised learning models the *best* model to use on the student data. You will then perform a grid search optimization for the model over the entire training set (`X_train` and `y_train`) by tuning at least one parameter to improve upon the untuned model's F<sub>1</sub> score. "
   ]
  },
  {
   "cell_type": "markdown",
   "metadata": {},
   "source": [
    "### Question 3 - Choosing the Best Model\n",
    "*Based on the experiments you performed earlier, in one to two paragraphs, explain to the board of supervisors what single model you chose as the best model. Which model is generally the most appropriate based on the available data, limited resources, cost, and performance?*"
   ]
  },
  {
   "cell_type": "markdown",
   "metadata": {},
   "source": [
    "**Answer: **\n",
    "\n",
    "Classifier 1 - Naive Bayes:\n",
    "- pros (train/test): good time and F1 Score;\n",
    "- cons (train/test): should be tuned for a better F1 Score.\n",
    "\n",
    "Classifier 2 - Decision Tree:\n",
    "- pros (train/test): good time;\n",
    "- cons (train/test): bad F1 Score (overfitting); should be tuned to be useful here.\n",
    "\n",
    "Classifier 3 - Support Vector Machine:\n",
    "- pros (train/test): good time (for small data set) and F1 Score;\n",
    "- cons (train/test): should be tuned (with a lot of parameters) for a better F1 Score; tends to a bad time if the data set is increased.\n",
    "\n",
    "Comparison conclusions:\n",
    "- time: increasing the training set size, Naive Bayes and Decision Tree tend to be many times faster than Support Vector Machine;\n",
    "- F1 Score: Support Vector Machine had the best score; Decision Tree, the worst.\n",
    "\n",
    "So Naive Bayes model seems to be generally the most appropriate based on the available data, limited resources, cost and performance. But Support Vector Machine would be a good or even better choice as well once the data size is small, so the time is not a big deal here.\n"
   ]
  },
  {
   "cell_type": "markdown",
   "metadata": {},
   "source": [
    "### Question 4 - Model in Layman's Terms\n",
    "*In one to two paragraphs, explain to the board of directors in layman's terms how the final model chosen is supposed to work. Be sure that you are describing the major qualities of the model, such as how the model is trained and how the model makes a prediction. Avoid using advanced mathematical or technical jargon, such as describing equations or discussing the algorithm implementation.*"
   ]
  },
  {
   "cell_type": "markdown",
   "metadata": {},
   "source": [
    "**Answer: **\n",
    "\n",
    "Brief explanation:\n",
    "Naive Bayes is a Machine Learning classifier. Its initial knowledge is based on a set of samples that we need to provide to that. Each sample should have N features and 1 label.\n",
    "Once the classifier has this knowledge (it was trained), we can provide to that N features and ask for a prediction. So our sample of N features and no label will have a label now. In other words, the sample was classified.\n",
    "\n",
    "Training Process:\n",
    "We provide to algorithm a training set with the features and labels. For example:\n",
    "\n",
    "| Color  | Shape | Size | Fruit |\n",
    "| :---:  | :---: | :--: | :---: |\n",
    "| Yellow | Round | 11cm | Orange|\n",
    "| Yellow | Round | 12cm | Orange|\n",
    "| Red\t | Round | 10cm | Apple |\n",
    "| Red    | Round | 11cm | Apple |\n",
    "| Red    | Round | 12cm | Apple |\n",
    "| Yellow | Round | 23cm | Melon |\n",
    "| Yellow | Round | 25cm | Melon |\n",
    "\n",
    "Prediction:\n",
    "Given a fruit, it will be classified (label) based on its color, roundness and diameter (features). For example, we know our fruit:\n",
    "- 1) is round: so it can be classified as an orange, apple or melon;\n",
    "- 2) has 11cm of diameter: the model don't know a melon of 11cm, so it should be an orange or an apple;\n",
    "- 3) is yellow: the model don't know a yellow apple, so it should be an orange!\n",
    "\n",
    "But if the size of our fruit was 30cm?\n",
    "In this case, the value is not common, it's not in our training set. So it could be an orange or a melon. However, the algorithm has to choose 1 type only and once this size is closer of a melon than an orange, Naive Bayes (and probably any person) would say that our fruit is a melon. So even though our features aren't exactly like a sample of the training set, it still can be classified based on mathematical probabilities."
   ]
  },
  {
   "cell_type": "markdown",
   "metadata": {},
   "source": [
    "### Implementation: Model Tuning\n",
    "Fine tune the chosen model. Use grid search (`GridSearchCV`) with at least one important parameter tuned with at least 3 different values. You will need to use the entire training set for this. In the code cell below, you will need to implement the following:\n",
    "- Import [`sklearn.grid_search.GridSearchCV`](http://scikit-learn.org/0.17/modules/generated/sklearn.grid_search.GridSearchCV.html) and [`sklearn.metrics.make_scorer`](http://scikit-learn.org/stable/modules/generated/sklearn.metrics.make_scorer.html).\n",
    "- Create a dictionary of parameters you wish to tune for the chosen model.\n",
    " - Example: `parameters = {'parameter' : [list of values]}`.\n",
    "- Initialize the classifier you've chosen and store it in `clf`.\n",
    "- Create the F<sub>1</sub> scoring function using `make_scorer` and store it in `f1_scorer`.\n",
    " - Set the `pos_label` parameter to the correct value!\n",
    "- Perform grid search on the classifier `clf` using `f1_scorer` as the scoring method, and store it in `grid_obj`.\n",
    "- Fit the grid search object to the training data (`X_train`, `y_train`), and store it in `grid_obj`."
   ]
  },
  {
   "cell_type": "code",
   "execution_count": 8,
   "metadata": {},
   "outputs": [
    {
     "name": "stdout",
     "output_type": "stream",
     "text": [
      "GaussianNB(priors=[0.01, 0.99])\n",
      "Made predictions in 0.0009 seconds.\n",
      "Tuned model has a training F1 score of 0.7991.\n",
      "Made predictions in 0.0005 seconds.\n",
      "Tuned model has a testing F1 score of 0.7815.\n"
     ]
    }
   ],
   "source": [
    "# TODO: Import 'GridSearchCV' and 'make_scorer'\n",
    "from sklearn.model_selection import GridSearchCV\n",
    "from sklearn.metrics import make_scorer\n",
    "\n",
    "# TODO: Create the parameters list you wish to tune\n",
    "parameters = {'priors' : [[0.01,0.99],[0.1,0.9],[0.2,0.8],[0.3,0.7],[0.4,0.6],[0.5,0.5],[0.6,0.4],[0.7,0.3],[0.8,0.2],[0.9,0.1],[0.01,0.99]]}\n",
    "\n",
    "# TODO: Initialize the classifier\n",
    "clf = GaussianNB()\n",
    "\n",
    "# TODO: Make an f1 scoring function using 'make_scorer' \n",
    "f1_scorer = make_scorer(f1_score, pos_label='yes')\n",
    "\n",
    "# TODO: Perform grid search on the classifier using the f1_scorer as the scoring method\n",
    "grid_obj = GridSearchCV(estimator=clf, param_grid=parameters, scoring=f1_scorer)\n",
    "\n",
    "# TODO: Fit the grid search object to the training data and find the optimal parameters\n",
    "grid_obj = grid_obj.fit(X_train, y_train)\n",
    "\n",
    "# Get the estimator\n",
    "clf = grid_obj.best_estimator_\n",
    "print (clf)\n",
    "\n",
    "# Report the final F1 score for training and testing after parameter tuning\n",
    "print (\"Tuned model has a training F1 score of {:.4f}.\".format(predict_labels(clf, X_train, y_train)))\n",
    "print (\"Tuned model has a testing F1 score of {:.4f}.\".format(predict_labels(clf, X_test, y_test)))"
   ]
  },
  {
   "cell_type": "markdown",
   "metadata": {},
   "source": [
    "### Question 5 - Final F<sub>1</sub> Score\n",
    "*What is the final model's F<sub>1</sub> score for training and testing? How does that score compare to the untuned model?*"
   ]
  },
  {
   "cell_type": "markdown",
   "metadata": {},
   "source": [
    "**Answer: **\n",
    "\n",
    "In comparison with the untuned model trained with a training set of size 300, we can see a reasonable difference:\n",
    "- F1 Score for training: 0.7991 x 0.7990\n",
    "- F1 Score for testing: 0.7815 x 0.7164\n",
    "\n",
    "So it's possible to conclude that our tuned model is better than the untuned one."
   ]
  },
  {
   "cell_type": "markdown",
   "metadata": {},
   "source": [
    "> **Note**: Once you have completed all of the code implementations and successfully answered each question above, you may finalize your work by exporting the iPython Notebook as an HTML document. You can do this by using the menu above and navigating to  \n",
    "**File -> Download as -> HTML (.html)**. Include the finished document along with this notebook as your submission."
   ]
  }
 ],
 "metadata": {
  "kernelspec": {
   "display_name": "Python 3",
   "language": "python",
   "name": "python3"
  },
  "language_info": {
   "codemirror_mode": {
    "name": "ipython",
    "version": 3
   },
   "file_extension": ".py",
   "mimetype": "text/x-python",
   "name": "python",
   "nbconvert_exporter": "python",
   "pygments_lexer": "ipython3",
   "version": "3.5.2"
  }
 },
 "nbformat": 4,
 "nbformat_minor": 1
}
